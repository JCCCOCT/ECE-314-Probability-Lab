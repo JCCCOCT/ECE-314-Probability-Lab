{
 "cells": [
  {
   "cell_type": "markdown",
   "metadata": {},
   "source": [
    "# Lab 6: Random processes and variations on a random walk"
   ]
  },
  {
   "cell_type": "markdown",
   "metadata": {},
   "source": [
    "At this point, you should recognize the need for this code. We are bringing in the modules necessary for this lab."
   ]
  },
  {
   "cell_type": "code",
   "execution_count": 1,
   "metadata": {},
   "outputs": [
    {
     "name": "stdout",
     "output_type": "stream",
     "text": [
      "Modules Imported!\n"
     ]
    }
   ],
   "source": [
    "%matplotlib inline\n",
    "import matplotlib.pyplot as plt\n",
    "import numpy as np\n",
    "import scipy as sp\n",
    "import scipy.stats as st\n",
    "print \"Modules Imported!\""
   ]
  },
  {
   "cell_type": "code",
   "execution_count": null,
   "metadata": {
    "collapsed": true
   },
   "outputs": [],
   "source": [
    "## Random Processes:"
   ]
  },
  {
   "cell_type": "markdown",
   "metadata": {},
   "source": [
    "Before we go over random walks, it's first a good idea to talk about a random process.  Simply put, a random process is a collection of indexed random variables on the same probability space. We say $X = (X_t: t\\in \\cal T)$ is a *random process* where each $X_t$ is a random variable. The index $t$ often corresponds to time.  We already saw one type of random process, namely, a Bernoulli random process with parameter $p$, such that $T$ is the positive integers and $X_t$ is a Bernoulli random variable with parameter $p$ for each $t\\geq 1.$  A random walk is a path through time based on discrete random steps. After any given number of steps, the next step is determined by a random variable. Let's visualize this with a scenario. A man goes on a walk with a bag full of marbles. Inside the bag are 4 blue marbles, 3 red marbles, and 2 yellow marble. At every point in time the man pulls a marble out of the bag to determine his next step. If he pulls a blue marble he takes one step back, a red, one step forward, and a yellow two steps forward. After taking the step he places the marble back in the bag.  Below is a graph of this behavior for 40 time units. Each step he takes is a random variable based on his pick of marbles."
   ]
  },
  {
   "cell_type": "code",
   "execution_count": 2,
   "metadata": {},
   "outputs": [
    {
     "data": {
      "text/plain": [
       "<matplotlib.legend.Legend at 0x7fb1be2183d0>"
      ]
     },
     "execution_count": 2,
     "metadata": {},
     "output_type": "execute_result"
    },
    {
     "data": {
      "image/png": "[encoded data removed]",
      "text/plain": [
       "<matplotlib.figure.Figure at 0x7fb1dce81410>"
      ]
     },
     "metadata": {},
     "output_type": "display_data"
    }
   ],
   "source": [
    "p = [i*1./(4+3+2) for i in [4,3,2]]\n",
    "c = [-1,1,2]\n",
    "T = 40   # Here T denotes the number of time steps\n",
    "Xmarb = st.rv_discrete(name='Xmarb',values=(c,p))\n",
    "\n",
    "x = [0]\n",
    "for t in range(T):\n",
    "    x.append(x[t]+Xmarb.rvs())\n",
    "    \n",
    "plt.plot(x, 'ro', label = 'Walking Step')\n",
    "t = np.linspace(0,T,10000)\n",
    "s = Xmarb.mean()  # s is the mean of one step\n",
    "plt.plot(t,np.multiply(s,t), label='Average Step')\n",
    "plt.title('Random Walk')\n",
    "plt.xlabel('Time Step')\n",
    "plt.ylabel('Position')\n",
    "plt.legend(loc=\"best\")"
   ]
  },
  {
   "cell_type": "markdown",
   "metadata": {},
   "source": [
    "In the above graph we plot the actual path the man takes versus what we would expect his path to be. At each step he independently pulls out a marble. We can calculate his expected step size by simply finding the expected value of the random variable for one step. If you increase the number of time steps $T$, you'll notice that his random walk more closely resembles our expectations. This follows directly from the *law of large numbers.*\n",
    "\n",
    "In this next example, we do the same thing, but now the probability distributions of his steps vary with time. That is, for for each step we create a new distribution. For every unit in time, the man can either take two steps forward with probability $\\cos^2 (2\\pi n/T)$ or take one step backward with probability  $\\sin^2(2\\pi n/T)$. So his probability of moving forward changes in time. Try running the code multiple times. Try larger T such as T=400.\n",
    "\n",
    "Here is a note about the time scaling for this random walk.  By the angle addition formula for cosine, $\\cos^2 (2\\pi t/T) = \\frac{1+\\cos (4\\pi t/T)}{2},$ which has period $T/2.$  Thus, over the time interval from 0 to T, this function goes through two periods, for any value of $T$.   So for large $T$ the function varies more slowly.\n"
   ]
  },
  {
   "cell_type": "code",
   "execution_count": 9,
   "metadata": {},
   "outputs": [
    {
     "data": {
      "text/plain": [
       "<matplotlib.legend.Legend at 0x7fb1bdcf4510>"
      ]
     },
     "execution_count": 9,
     "metadata": {},
     "output_type": "execute_result"
    },
    {
     "data": {
      "image/png": "[encoded data removed]",
      "text/plain": [
       "<matplotlib.figure.Figure at 0x7fb1be233090>"
      ]
     },
     "metadata": {},
     "output_type": "display_data"
    }
   ],
   "source": [
    "x = [0.]\n",
    "T = 40\n",
    "for t in range(T):\n",
    "    p = [np.cos(2.*np.pi*float(t)/T)**2,np.sin(2.*np.pi*float(t)/T)**2]\n",
    "    c = [2,-1]\n",
    "    Xcstm = st.rv_discrete(name='Xcstm',values=(c,p))\n",
    "    w = Xcstm.rvs()\n",
    "    x.append(x[t]+w)\n",
    "plt.plot(x, 'ro', label = 'Walking Step')\n",
    "plt.title('Random Walk')\n",
    "plt.xlabel('Time Step')\n",
    "plt.ylabel('Position')\n",
    "plt.legend(loc=\"best\")"
   ]
  },
  {
   "cell_type": "markdown",
   "metadata": {},
   "source": [
    "**<SPAN style=\"BACKGROUND-COLOR: #C0C0C0\">Problem 1:</SPAN>** As you can see, if T is increased to a large number such as 400, the whole random walk becomes more deterministic. Calculate the expected value of the walk at each time t and overlay it onto the plot. For T large the random walk should closely follow your function."
   ]
  },
  {
   "cell_type": "code",
   "execution_count": 17,
   "metadata": {},
   "outputs": [
    {
     "data": {
      "text/plain": [
       "<matplotlib.legend.Legend at 0x7fb1bd86ff10>"
      ]
     },
     "execution_count": 17,
     "metadata": {},
     "output_type": "execute_result"
    },
    {
     "data": {
      "image/png": "[encoded data removed]",
      "text/plain": [
       "<matplotlib.figure.Figure at 0x7fb1bdd2c790>"
      ]
     },
     "metadata": {},
     "output_type": "display_data"
    }
   ],
   "source": [
    "# Your code here\n",
    "x = [0.]\n",
    "T = 400\n",
    "mean = [0.]\n",
    "for t in range(T):\n",
    "    p = [np.cos(2.*np.pi*float(t)/T)**2,np.sin(2.*np.pi*float(t)/T)**2]\n",
    "    c = [2,-1]\n",
    "    mean.append(mean[t] + np.average(c, weights = p))\n",
    "    #print mean\n",
    "    Xcstm = st.rv_discrete(name='Xcstm',values=(c,p))\n",
    "    w = Xcstm.rvs()\n",
    "    x.append(x[t]+w)\n",
    "plt.plot(x, 'ro', label = 'Walking Step')\n",
    "plt.plot(mean, 'bx', label = 'Expected Value')\n",
    "plt.title('Random Walk')\n",
    "plt.xlabel('Time Step')\n",
    "plt.ylabel('Position')\n",
    "plt.legend(loc=\"best\")"
   ]
  },
  {
   "cell_type": "markdown",
   "metadata": {},
   "source": [
    "**<SPAN style=\"BACKGROUND-COLOR: #C0C0C0\">End of Problem 1</SPAN>**"
   ]
  },
  {
   "cell_type": "markdown",
   "metadata": {},
   "source": [
    "**<SPAN style=\"BACKGROUND-COLOR: #C0C0C0\">Problem 2:</SPAN>** Let's create an apocalyptic scenario: Zombies have taken over the world. You and a small group of friends have managed to hide out in the new ECE building on the UIUC campus because it was built to very good anti-zombie standards. Unfortunately for you, 20 zombies have already managed to infiltrate the building and nightfall is coming. The total number of zombies that fight their way in or get pushed back each night is given by the following distribution: \n",
    "\n",
    "$P\\{Z = 5\\} = .05$\n",
    "\n",
    "$P\\{Z = 3\\} = .1$\n",
    "\n",
    "$P\\{Z = 2\\} = .25$\n",
    "\n",
    "$P\\{Z = 1\\} = .2$\n",
    "\n",
    "$P\\{Z = 0\\} = .05$\n",
    "\n",
    "$P\\{Z = -2\\} = .2$\n",
    "\n",
    "$P\\{Z = -3\\} = .1$\n",
    "\n",
    "$P\\{Z = -4\\} = .05$\n",
    "\n",
    "Model the total number of zombies in the building, X, as a random walk. Here $X[0] = 20$ since 20 zombies had already infiltrated the building. Instead of having a finite number of steps, run the simulation until either you push all of the zombies back, $X[T] = 0$, or the zombies overwhelm you, $X[T] = 100$. \n",
    "<ol>\n",
    "    <li> Plot the total number of zombies versus time. How many nights did you survive?</li>\n",
    "    <li> What's the expected number of zombies that get in each night? </li>\n",
    "    <li> What's the minimum number of nights it would take you to be overwhelmed?</li>\n",
    "    <li> What's the probability of that occuring? (i.e. the probability of being overwhelmed in the minimum\n",
    "    possible number of nights? </li>\n",
    "</ol>"
   ]
  },
  {
   "cell_type": "code",
   "execution_count": null,
   "metadata": {
    "collapsed": true
   },
   "outputs": [],
   "source": [
    "# Your code here\n",
    "x = [20]\n",
    "T = 1000\n",
    "mean = [20.] #Should we start from 20 or 0?\n",
    "for t in range(T):\n",
    "    p = [.05, .1, .25, .2, .05, .2, .1, .05]\n",
    "    c = [5, 3, 2, 1, 0, -2, -3, -4]\n",
    "    mean.append(mean[t] + np.average(c, weights = p))\n",
    "    Xcstm = st.rv_discrete(name='Xcstm',values=(c,p))\n",
    "    w = Xcstm.rvs()\n",
    "    x.append(x[t] + w)\n",
    "    if x[t+1] == 0:\n",
    "        print 'You win'\n",
    "        break\n",
    "    elif x[t+1] >= 100:\n",
    "        print 'You lose'\n",
    "        print 'You survived for'\n",
    "        print t\n",
    "        print 'days'\n",
    "        break\n",
    "\n",
    "print 'The expected number of zombies in each night is', mean\n",
    "ow = (100-x[0]) / np.max(c)\n",
    "print 'The minimum nights that you are overwhelmed is', ow\n",
    "for i in range(np.size(c)):\n",
    "    if c[i] == np.max(c):\n",
    "        lar_pos = i\n",
    "print 'Largest position:', lar_pos\n",
    "\n",
    "print 'The probability of overwhelming in minimum nights is', (p[lar_pos])**ow\n",
    "plt.plot(x, 'ro', label = 'Total number of Zombies')\n",
    "plt.plot(mean, 'bx', label = 'Expected Value of zombies on campus')\n",
    "plt.title('Random Walk')\n",
    "plt.xlabel('Time Step')\n",
    "plt.ylabel('Position')\n",
    "plt.legend(loc=\"best\")"
   ]
  },
  {
   "cell_type": "markdown",
   "metadata": {},
   "source": [
    "__Answer:__ (Your answer here)"
   ]
  },
  {
   "cell_type": "markdown",
   "metadata": {},
   "source": [
    "**<SPAN style=\"BACKGROUND-COLOR: #C0C0C0\">End of Problem 2</SPAN>**"
   ]
  },
  {
   "cell_type": "markdown",
   "metadata": {},
   "source": [
    "Now let's modify the scenario. Suppose each night you push back the horde, you get invigorated and the probability you push back the horde the next night increases. However, each night a zombie gets in, your group gets demoralized and the probability the \n",
    "horde gets in the next night increases. Below is a method I have made to model this behavior. It has three inputs: $p$ your current probability vector to be altered, $c$ your values vector, and $\\delta$ the amount you want to alter the probabilities. Remember that our probabilities have to sum to one so that we need to normalize $p$. Additionally, we need to check that no probabilities are negative."
   ]
  },
  {
   "cell_type": "code",
   "execution_count": 2,
   "metadata": {},
   "outputs": [
    {
     "name": "stdout",
     "output_type": "stream",
     "text": [
      "p0: ['0.050', '0.100', '0.250', '0.200', '0.050', '0.200', '0.100', '0.050'] sum: 1.0\n",
      "p1: ['0.069', '0.118', '0.265', '0.216', '0.049', '0.176', '0.078', '0.029'] sum: 1.0\n",
      "p2: ['0.020', '0.071', '0.226', '0.174', '0.052', '0.238', '0.135', '0.084'] sum: 1.0\n"
     ]
    }
   ],
   "source": [
    "def ChangeProb(p,c, delta):\n",
    "    for i in range(np.size(p)):\n",
    "        if c[i]>0: p[i]=np.max([p[i]+delta,0]) #Changes the probabilities of the zombies coming in\n",
    "        if c[i]<0: p[i]=np.max([p[i]-delta,0]) #Changes the probabilities of the zombies getting pushed back\n",
    "    p = [i*1./np.sum(p) for i in p] #Normalizes the p vector so that it sums to 1\n",
    "    return p\n",
    "\n",
    "#Example of how you can use the method    \n",
    "p = [0.05, 0.1, 0.25, 0.2, 0.05, 0.2, 0.1, 0.05]\n",
    "c = [5,3,2,1,0,-2,-3,-4]\n",
    "print 'p0:', [\"%.3f\" % i for i in p], 'sum:', np.sum(p) #Returns a rounded list of the probabilities\n",
    "p = ChangeProb(p,c,.02) #Example of changing probability in favor of the horde\n",
    "print 'p1:', [\"%.3f\" % i for i in p], 'sum:', np.sum(p) #Returns a rounded list of the probabilities\n",
    "p = ChangeProb(p,c,-.05) #Example of changing the probability in favor of the survivors\n",
    "print 'p2:', [\"%.3f\" % i for i in p], 'sum:', np.sum(p) #Returns a rounded list of the probabilities"
   ]
  },
  {
   "cell_type": "markdown",
   "metadata": {},
   "source": [
    "**<SPAN style=\"BACKGROUND-COLOR: #C0C0C0\">Problem 3:</SPAN>** Model the same scenario but use the method above. You will need to create a custom RV for each night. If the horde breaks through during the night, change the probabilites with $\\delta=.0075$ for the next night. If you push the horde back, change the probabilites with $\\delta=-.01$\n",
    "<ol>\n",
    "    <li> Plot the total number of zombies versus time. How many nights did you survive?</li>\n",
    "    <li> The expected number of zombies coming in or leaving changes each night. Plot the expected value over time. (Note:  For any run of the experiment, the expected number of Zombies on night $t$ depends on what happened in the\n",
    "    previous nights.   You should plot the expected number for each night, conditioned on what happened in previous nights.   Your answer will not be deterministic -- it will be different for different runs of the experiment.) </li>\n",
    "    <li> What's the minimum number of nights it would take you to defeat the horde?</li>\n",
    "    <li> What's the probability of that occuring?</li>\n",
    "    <li> Typically, this simulation takes less days to complete than the previous simulation. Why might that be?</li>\n",
    "</ol>"
   ]
  },
  {
   "cell_type": "code",
   "execution_count": null,
   "metadata": {},
   "outputs": [],
   "source": [
    "# Your code here\n",
    "x = [20]\n",
    "T = 1000\n",
    "mean = [20.]\n",
    "p = [.05, .1, .25, .2, .05, .2, .1, .05]\n",
    "c = [5, 3, 2, 1, 0, -2, -3, -4]\n",
    "delta_z = .0075 #delta zombies win\n",
    "delta_h = -.01 #delta human win\n",
    "for t in range(T):\n",
    "   \n",
    "    mean.append(mean[t] + np.average(c, weights = p))\n",
    "    Xcstm = st.rv_discrete(name='Xcstm',values=(c,p))\n",
    "    w = Xcstm.rvs()\n",
    "    x.append(x[t] + w)\n",
    "    if x[t+1] > x[t]:\n",
    "        p = ChangeProb(p,c,delta_z) #add probability of zombies break in the next night\n",
    "    else:\n",
    "        p = ChangeProb(p,c,delta_h) #add probability of wiping zombies in the next night\n",
    "    if x[t+1] == 0:\n",
    "        print 'You win'\n",
    "        break\n",
    "    elif x[t+1] >= 100:\n",
    "        print 'You lose'\n",
    "        print 'You survived for'\n",
    "        print t\n",
    "        print 'days'\n",
    "        break\n",
    "\n",
    "print 'The expected number of zombies in each night is', mean\n",
    "\n",
    "# calculating minimum days to win\n",
    "d = 20\n",
    "win = 0\n",
    "daysw = 0 #days to win\n",
    "while d > win:\n",
    "    daysw = daysw + 1\n",
    "    Xcstm = st.rv_discrete(name='Xcstm',values=(cd,pd))\n",
    "    w = Xcstm.rvs()\n",
    "    d = d + w\n",
    "    p = ChangeProb(p,c,delta_h) #aldays add probability of wiping zombies in the next night\n",
    "print 'Minimum days to win:', daysw\n",
    "   \n",
    "\n",
    "\n",
    "#plot\n",
    "plt.plot(x, 'ro', label = 'Total number of Zombies')\n",
    "plt.plot(mean, 'bx', label = 'Expected Value of zombies on campus')\n",
    "plt.title('Random Walk')\n",
    "plt.xlabel('Time Step')\n",
    "plt.ylabel('Position')\n",
    "plt.legend(loc=\"best\")\n",
    "\n",
    "#Prob of defeating the zombies\n",
    "#if defeat zombies, ChangeProb(p,c,delta_h) every day\n",
    "pd = [.05, .1, .25, .2, .05, .2, .1, .05]\n",
    "cd = [5, 3, 2, 1, 0, -2, -3, -4]\n",
    "\n",
    "\n"
   ]
  },
  {
   "cell_type": "markdown",
   "metadata": {},
   "source": [
    "__Answer:__ (Your answer here)"
   ]
  },
  {
   "cell_type": "markdown",
   "metadata": {},
   "source": [
    "**<SPAN style=\"BACKGROUND-COLOR: #C0C0C0\">End of Problem 3</SPAN>**"
   ]
  },
  {
   "cell_type": "markdown",
   "metadata": {},
   "source": [
    "## Lab Questions:"
   ]
  },
  {
   "cell_type": "markdown",
   "metadata": {},
   "source": [
    "Make sure to complete all lab questions 1-3 for this weeks lab."
   ]
  },
  {
   "cell_type": "markdown",
   "metadata": {},
   "source": [
    "<div class=\"alert alert-block alert-warning\"> \n",
    "## Academic Integrity Statement ##\n",
    "\n",
    "By submitting the lab with this statement, you declare you have written up the lab entirely by yourself, including both code and markdown cells. You also agree that you should not share your code with anyone else. Any violation of the academic integrity requirement may cause an academic integrity report to be filed that could go into your student record. See <a href=\"https://provost.illinois.edu/policies/policies/academic-integrity/students-quick-reference-guide-to-academic-integrity/\">Students' Quick Reference Guide to Academic Integrity</a> for more information. "
   ]
  }
 ],
 "metadata": {
  "anaconda-cloud": {},
  "kernelspec": {
   "display_name": "Python 2",
   "language": "python",
   "name": "python2"
  },
  "language_info": {
   "codemirror_mode": {
    "name": "ipython",
    "version": 2
   },
   "file_extension": ".py",
   "mimetype": "text/x-python",
   "name": "python",
   "nbconvert_exporter": "python",
   "pygments_lexer": "ipython2",
   "version": "2.7.14"
  }
 },
 "nbformat": 4,
 "nbformat_minor": 1
}
